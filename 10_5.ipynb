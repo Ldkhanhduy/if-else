{
  "nbformat": 4,
  "nbformat_minor": 0,
  "metadata": {
    "colab": {
      "name": "10/5.ipynb",
      "provenance": [],
      "collapsed_sections": [],
      "authorship_tag": "ABX9TyMMKyEHuAL0MY60f8b55VHR",
      "include_colab_link": true
    },
    "kernelspec": {
      "name": "python3",
      "display_name": "Python 3"
    },
    "language_info": {
      "name": "python"
    }
  },
  "cells": [
    {
      "cell_type": "markdown",
      "metadata": {
        "id": "view-in-github",
        "colab_type": "text"
      },
      "source": [
        "<a href=\"https://colab.research.google.com/github/Ldkhanhduy/if-else/blob/main/10_5.ipynb\" target=\"_parent\"><img src=\"https://colab.research.google.com/assets/colab-badge.svg\" alt=\"Open In Colab\"/></a>"
      ]
    },
    {
      "cell_type": "markdown",
      "metadata": {
        "id": "anlaFzo5CAzs"
      },
      "source": [
        "Bai tap:"
      ]
    },
    {
      "cell_type": "code",
      "metadata": {
        "colab": {
          "base_uri": "https://localhost:8080/"
        },
        "id": "EgOSB7eICCzw",
        "outputId": "ed438c81-daa1-47f0-bdb3-664f48993654"
      },
      "source": [
        "#Bai 1:\n",
        "a=int(input(\"a= \"))\n",
        "if a<0:\n",
        "  print(\"a la so am\")\n",
        "else:\n",
        "  print(\"a la so duong\")"
      ],
      "execution_count": 6,
      "outputs": [
        {
          "output_type": "stream",
          "name": "stdout",
          "text": [
            "a= -2\n",
            "a la so am\n"
          ]
        }
      ]
    },
    {
      "cell_type": "code",
      "metadata": {
        "colab": {
          "base_uri": "https://localhost:8080/"
        },
        "id": "oPOBk8PeCiZu",
        "outputId": "c0af6a4b-3695-420e-ab75-261e1fb19b47"
      },
      "source": [
        "#Bai 2:\n",
        "a=float(input(\"a= \"))\n",
        "b=float(input(\"b= \"))\n",
        "c=float(input(\"c= \"))\n",
        "if a>b and a>c:\n",
        "  print(\"GTLN la a\")\n",
        "elif b>a and b>c:\n",
        "  print(\"GTLN la b\")\n",
        "else:\n",
        "  print(\"GTLN la c\")"
      ],
      "execution_count": 8,
      "outputs": [
        {
          "output_type": "stream",
          "name": "stdout",
          "text": [
            "a= 2\n",
            "b= 5.9\n",
            "c= 4.1\n",
            "GTLN la b\n"
          ]
        }
      ]
    },
    {
      "cell_type": "code",
      "metadata": {
        "colab": {
          "base_uri": "https://localhost:8080/"
        },
        "id": "3FvImvPxDi3G",
        "outputId": "2bdddf44-78c0-4023-b8e7-86f0171daeba"
      },
      "source": [
        "#Bai 3:\n",
        "a=float(input(\"a= \"))\n",
        "if a==0:\n",
        "  print(\"zero\")\n",
        "elif a>=1:\n",
        "  print(\"a la so duong\")\n",
        "elif a<=-1:\n",
        "  print(\"a la so am\")\n",
        "elif a>0 and a<1:\n",
        "  print(\"a la so duong rat nho\")\n",
        "elif a>-1 and a<0:\n",
        "  print(\"a la so am gan bang 0\")\n",
        "elif a>1000000:\n",
        "  print(\"a la so duong rat lon\")\n",
        "elif a<-1000000:\n",
        "  print(\"a la so am rat nho\")"
      ],
      "execution_count": 14,
      "outputs": [
        {
          "output_type": "stream",
          "name": "stdout",
          "text": [
            "a= 100000\n",
            "a la so duong\n"
          ]
        }
      ]
    },
    {
      "cell_type": "code",
      "metadata": {
        "colab": {
          "base_uri": "https://localhost:8080/"
        },
        "id": "Llr9rWY6FEy3",
        "outputId": "8a51e474-8442-4bf7-f6b0-5f072ec8ab6b"
      },
      "source": [
        "#Bai 4:\n",
        "a=int(input(\"a= \"))\n",
        "if a==1:\n",
        "  print(\"Monday\")\n",
        "elif a==2:\n",
        "  print(\"Tuesday\")\n",
        "elif a==3:\n",
        "  print(\"Wednesday\")\n",
        "elif a==4:\n",
        "  print(\"Thursday\")\n",
        "elif a==5:\n",
        "  print(\"Friday\")\n",
        "elif a==6:\n",
        "  print(\"Saturday\")\n",
        "elif a==7:\n",
        "  print(\"Sunday\")\n",
        "else:\n",
        "  print(\"Chi nhap tu 1-7\")\n"
      ],
      "execution_count": 38,
      "outputs": [
        {
          "output_type": "stream",
          "name": "stdout",
          "text": [
            "a= 4.7\n",
            "Thursday\n"
          ]
        }
      ]
    },
    {
      "cell_type": "code",
      "metadata": {
        "colab": {
          "base_uri": "https://localhost:8080/"
        },
        "id": "KUWWA1U8FLA7",
        "outputId": "13c03ce5-7b1e-48cf-edc5-0ff942f8598d"
      },
      "source": [
        "#Bai 5:\n",
        "a=float(input(\"a= \"))\n",
        "a=f'{a:.3f}'\n",
        "b=float(input(\"b= \"))\n",
        "b=f'{b:.3f}'\n",
        "if a==b:\n",
        "  print(\"a va b bang nhau\")\n",
        "else:\n",
        "  print(\"a va b khac nhau\")"
      ],
      "execution_count": 32,
      "outputs": [
        {
          "output_type": "stream",
          "name": "stdout",
          "text": [
            "a= 2.3457\n",
            "b= 2.3456\n",
            "a va b bang nhau\n"
          ]
        }
      ]
    }
  ]
}